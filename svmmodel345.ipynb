{
 "cells": [
  {
   "cell_type": "code",
   "execution_count": 87,
   "id": "190fd6c2",
   "metadata": {},
   "outputs": [],
   "source": [
    "import os\n",
    "import numpy as np\n",
    "import matplotlib.pyplot as plt\n",
    "from skimage import io\n",
    "from scipy.fftpack import fft, dct\n",
    "import skimage\n",
    "from skimage.transform import resize\n",
    "from glob import glob\n",
    "from sklearn.utils import shuffle\n",
    "import pandas as pd\n",
    "import pickle\n",
    "\n",
    "%matplotlib inline"
   ]
  },
  {
   "cell_type": "markdown",
   "id": "9e789d98",
   "metadata": {},
   "source": [
    "## Load Data"
   ]
  },
  {
   "cell_type": "code",
   "execution_count": 88,
   "id": "b1191f68",
   "metadata": {},
   "outputs": [],
   "source": [
    "df1 = pd.read_excel('DB1_B.xlsx')\n",
    "df2 = pd.read_excel('DB4_B.xlsx')"
   ]
  },
  {
   "cell_type": "code",
   "execution_count": 89,
   "id": "dadca78e",
   "metadata": {},
   "outputs": [
    {
     "data": {
      "text/plain": [
       "(           0         1  2  3  4  5  6  7  8  9\n",
       " 0   0.635826  0.364174  0  0  0  0  0  0  0  0\n",
       " 1   0.635826  0.364174  0  0  0  0  0  0  0  0\n",
       " 2   0.635826  0.364174  0  0  0  0  0  0  0  0\n",
       " 3   0.635826  0.364174  0  0  0  0  0  0  0  0\n",
       " 4   0.635826  0.364174  0  0  0  0  0  0  0  0\n",
       " ..       ...       ... .. .. .. .. .. .. .. ..\n",
       " 75  0.635826  0.364174  0  0  0  0  0  0  0  0\n",
       " 76  0.635826  0.364174  0  0  0  0  0  0  0  0\n",
       " 77  0.635826  0.364174  0  0  0  0  0  0  0  0\n",
       " 78  0.635826  0.364174  0  0  0  0  0  0  0  0\n",
       " 79  0.635826  0.364174  0  0  0  0  0  0  0  0\n",
       " \n",
       " [80 rows x 10 columns],\n",
       "            0         1  2  3  4  5  6  7  8  9\n",
       " 0   0.635826  0.364174  0  0  0  0  0  0  0  0\n",
       " 1   0.635826  0.364174  0  0  0  0  0  0  0  0\n",
       " 2   0.635826  0.364174  0  0  0  0  0  0  0  0\n",
       " 3   0.635826  0.364174  0  0  0  0  0  0  0  0\n",
       " 4   0.635826  0.364174  0  0  0  0  0  0  0  0\n",
       " ..       ...       ... .. .. .. .. .. .. .. ..\n",
       " 75  0.635826  0.364174  0  0  0  0  0  0  0  0\n",
       " 76  0.635826  0.364174  0  0  0  0  0  0  0  0\n",
       " 77  0.635826  0.364174  0  0  0  0  0  0  0  0\n",
       " 78  0.635826  0.364174  0  0  0  0  0  0  0  0\n",
       " 79  0.635826  0.364174  0  0  0  0  0  0  0  0\n",
       " \n",
       " [80 rows x 10 columns])"
      ]
     },
     "execution_count": 89,
     "metadata": {},
     "output_type": "execute_result"
    }
   ],
   "source": [
    "df1[df1.columns[1:11]],df2[df2.columns[1:11]]"
   ]
  },
  {
   "cell_type": "code",
   "execution_count": 90,
   "id": "76eb5d66",
   "metadata": {},
   "outputs": [],
   "source": [
    "X1,X2 = df1[df1.columns[1:11]].to_numpy()[:110],df2[df2.columns[1:11]].to_numpy()[:110]"
   ]
  },
  {
   "cell_type": "code",
   "execution_count": 91,
   "id": "686087f4",
   "metadata": {},
   "outputs": [
    {
     "data": {
      "text/plain": [
       "((80, 10), (80, 10))"
      ]
     },
     "execution_count": 91,
     "metadata": {},
     "output_type": "execute_result"
    }
   ],
   "source": [
    "X1.shape,X2.shape"
   ]
  },
  {
   "cell_type": "code",
   "execution_count": 92,
   "id": "6be2ac1a",
   "metadata": {},
   "outputs": [],
   "source": [
    "Y1 = np.array([1 for i in range(X1.shape[0])])\n",
    "Y2 = np.array([0 for i in range(X2.shape[0])])"
   ]
  },
  {
   "cell_type": "code",
   "execution_count": 93,
   "id": "1f60f8eb",
   "metadata": {},
   "outputs": [
    {
     "data": {
      "text/plain": [
       "((80,), (80,))"
      ]
     },
     "execution_count": 93,
     "metadata": {},
     "output_type": "execute_result"
    }
   ],
   "source": [
    "Y1.shape,Y2.shape"
   ]
  },
  {
   "cell_type": "code",
   "execution_count": 94,
   "id": "d5743db1",
   "metadata": {},
   "outputs": [
    {
     "data": {
      "text/plain": [
       "(160, 10)"
      ]
     },
     "execution_count": 94,
     "metadata": {},
     "output_type": "execute_result"
    }
   ],
   "source": [
    "X = np.power(np.concatenate((X1,X2)),1/5)\n",
    "X.shape"
   ]
  },
  {
   "cell_type": "code",
   "execution_count": null,
   "id": "8abbc758",
   "metadata": {},
   "outputs": [],
   "source": []
  },
  {
   "cell_type": "code",
   "execution_count": 95,
   "id": "51b32e90",
   "metadata": {},
   "outputs": [
    {
     "data": {
      "text/plain": [
       "(160,)"
      ]
     },
     "execution_count": 95,
     "metadata": {},
     "output_type": "execute_result"
    }
   ],
   "source": [
    "Y = np.concatenate((Y1,Y2))\n",
    "Y.shape"
   ]
  },
  {
   "cell_type": "code",
   "execution_count": 96,
   "id": "3d6eb6ab",
   "metadata": {},
   "outputs": [
    {
     "data": {
      "text/plain": [
       "(array([[0.91341412, 0.81707454, 0.        , 0.        , 0.        ,\n",
       "         0.        , 0.        , 0.        , 0.        , 0.        ],\n",
       "        [0.91341412, 0.81707454, 0.        , 0.        , 0.        ,\n",
       "         0.        , 0.        , 0.        , 0.        , 0.        ],\n",
       "        [0.91341412, 0.81707454, 0.        , 0.        , 0.        ,\n",
       "         0.        , 0.        , 0.        , 0.        , 0.        ],\n",
       "        [0.91341412, 0.81707454, 0.        , 0.        , 0.        ,\n",
       "         0.        , 0.        , 0.        , 0.        , 0.        ],\n",
       "        [0.91341412, 0.81707454, 0.        , 0.        , 0.        ,\n",
       "         0.        , 0.        , 0.        , 0.        , 0.        ],\n",
       "        [0.91341412, 0.81707454, 0.        , 0.        , 0.        ,\n",
       "         0.        , 0.        , 0.        , 0.        , 0.        ],\n",
       "        [0.91341412, 0.81707454, 0.        , 0.        , 0.        ,\n",
       "         0.        , 0.        , 0.        , 0.        , 0.        ],\n",
       "        [0.91341412, 0.81707454, 0.        , 0.        , 0.        ,\n",
       "         0.        , 0.        , 0.        , 0.        , 0.        ],\n",
       "        [0.91341412, 0.81707454, 0.        , 0.        , 0.        ,\n",
       "         0.        , 0.        , 0.        , 0.        , 0.        ],\n",
       "        [0.91341412, 0.81707454, 0.        , 0.        , 0.        ,\n",
       "         0.        , 0.        , 0.        , 0.        , 0.        ]]),\n",
       " array([1, 1, 1, 1, 1, 1, 1, 1, 1, 1]))"
      ]
     },
     "execution_count": 96,
     "metadata": {},
     "output_type": "execute_result"
    }
   ],
   "source": [
    "X[:10],Y[:10]"
   ]
  },
  {
   "cell_type": "code",
   "execution_count": 97,
   "id": "a9ec856b",
   "metadata": {},
   "outputs": [],
   "source": [
    "X, Y = shuffle(X, Y, random_state=680)"
   ]
  },
  {
   "cell_type": "code",
   "execution_count": 98,
   "id": "f47c4782",
   "metadata": {},
   "outputs": [
    {
     "data": {
      "text/plain": [
       "(array([[0.91341412, 0.81707454, 0.        , 0.        , 0.        ,\n",
       "         0.        , 0.        , 0.        , 0.        , 0.        ],\n",
       "        [0.91341412, 0.81707454, 0.        , 0.        , 0.        ,\n",
       "         0.        , 0.        , 0.        , 0.        , 0.        ],\n",
       "        [0.91341412, 0.81707454, 0.        , 0.        , 0.        ,\n",
       "         0.        , 0.        , 0.        , 0.        , 0.        ],\n",
       "        [0.91341412, 0.81707454, 0.        , 0.        , 0.        ,\n",
       "         0.        , 0.        , 0.        , 0.        , 0.        ],\n",
       "        [0.91341412, 0.81707454, 0.        , 0.        , 0.        ,\n",
       "         0.        , 0.        , 0.        , 0.        , 0.        ],\n",
       "        [0.91341412, 0.81707454, 0.        , 0.        , 0.        ,\n",
       "         0.        , 0.        , 0.        , 0.        , 0.        ],\n",
       "        [0.91341412, 0.81707454, 0.        , 0.        , 0.        ,\n",
       "         0.        , 0.        , 0.        , 0.        , 0.        ],\n",
       "        [0.91341412, 0.81707454, 0.        , 0.        , 0.        ,\n",
       "         0.        , 0.        , 0.        , 0.        , 0.        ],\n",
       "        [0.91341412, 0.81707454, 0.        , 0.        , 0.        ,\n",
       "         0.        , 0.        , 0.        , 0.        , 0.        ],\n",
       "        [0.91341412, 0.81707454, 0.        , 0.        , 0.        ,\n",
       "         0.        , 0.        , 0.        , 0.        , 0.        ]]),\n",
       " array([0, 1, 1, 0, 0, 1, 1, 0, 0, 1]))"
      ]
     },
     "execution_count": 98,
     "metadata": {},
     "output_type": "execute_result"
    }
   ],
   "source": [
    "X[:10],Y[:10]"
   ]
  },
  {
   "cell_type": "markdown",
   "id": "17ad15cd",
   "metadata": {},
   "source": [
    "## Train Test Split"
   ]
  },
  {
   "cell_type": "code",
   "execution_count": 99,
   "id": "c9295a09",
   "metadata": {},
   "outputs": [],
   "source": [
    "from sklearn.model_selection import train_test_split\n",
    "\n",
    "x_train, x_test, y_train, y_test = train_test_split(X, Y, test_size=0.20, random_state=13)"
   ]
  },
  {
   "cell_type": "markdown",
   "id": "a992beb3",
   "metadata": {},
   "source": [
    "## SVM Classifier"
   ]
  },
  {
   "cell_type": "code",
   "execution_count": 100,
   "id": "d7645b37",
   "metadata": {},
   "outputs": [],
   "source": [
    "from sklearn import svm\n",
    "from sklearn.model_selection import cross_val_score\n",
    "clf =  svm.SVC(kernel='sigmoid')"
   ]
  },
  {
   "cell_type": "code",
   "execution_count": 101,
   "id": "e4410e03",
   "metadata": {},
   "outputs": [
    {
     "name": "stdout",
     "output_type": "stream",
     "text": [
      "mean = 0.50 , sdtDev = 0.00\n"
     ]
    }
   ],
   "source": [
    "scores = cross_val_score(clf, X, Y, cv=5)\n",
    "print(\"mean = %0.2f , sdtDev = %0.2f\" %(scores.mean(),scores.std()))"
   ]
  },
  {
   "cell_type": "code",
   "execution_count": 102,
   "id": "fb1c1981",
   "metadata": {},
   "outputs": [
    {
     "data": {
      "text/plain": [
       "SVC(kernel='sigmoid')"
      ]
     },
     "execution_count": 102,
     "metadata": {},
     "output_type": "execute_result"
    }
   ],
   "source": [
    "clf.fit(x_train,y_train)"
   ]
  },
  {
   "cell_type": "markdown",
   "id": "bc965b24",
   "metadata": {},
   "source": [
    "## Predictions"
   ]
  },
  {
   "cell_type": "code",
   "execution_count": 103,
   "id": "82d3f07a",
   "metadata": {},
   "outputs": [],
   "source": [
    "y_pred = clf.predict(x_test)"
   ]
  },
  {
   "cell_type": "markdown",
   "id": "d9cda3c6",
   "metadata": {},
   "source": [
    "## Evaluation"
   ]
  },
  {
   "cell_type": "code",
   "execution_count": 104,
   "id": "3f8937c1",
   "metadata": {},
   "outputs": [],
   "source": [
    "from sklearn.metrics import confusion_matrix\n",
    "from sklearn.metrics import precision_recall_fscore_support\n",
    "from sklearn.metrics import accuracy_score"
   ]
  },
  {
   "cell_type": "code",
   "execution_count": 105,
   "id": "4c06eeac",
   "metadata": {},
   "outputs": [
    {
     "data": {
      "text/plain": [
       "array([[ 0, 18],\n",
       "       [ 0, 14]], dtype=int64)"
      ]
     },
     "execution_count": 105,
     "metadata": {},
     "output_type": "execute_result"
    }
   ],
   "source": [
    "#confusion matrix\n",
    "cnf = confusion_matrix(y_test, y_pred)\n",
    "cnf"
   ]
  },
  {
   "cell_type": "code",
   "execution_count": 106,
   "id": "aff0a58b",
   "metadata": {},
   "outputs": [
    {
     "name": "stderr",
     "output_type": "stream",
     "text": [
      "E:\\Users\\DELL\\anaconda3\\lib\\site-packages\\sklearn\\metrics\\_classification.py:1248: UndefinedMetricWarning: Precision and F-score are ill-defined and being set to 0.0 in labels with no predicted samples. Use `zero_division` parameter to control this behavior.\n",
      "  _warn_prf(average, modifier, msg_start, len(result))\n"
     ]
    },
    {
     "data": {
      "text/plain": [
       "(0.19140625, 0.4375, 0.266304347826087, None)"
      ]
     },
     "execution_count": 106,
     "metadata": {},
     "output_type": "execute_result"
    }
   ],
   "source": [
    "precision_recall_fscore_support(y_test,y_pred,average='weighted')"
   ]
  },
  {
   "cell_type": "code",
   "execution_count": 107,
   "id": "4d4df37c",
   "metadata": {},
   "outputs": [
    {
     "name": "stdout",
     "output_type": "stream",
     "text": [
      "Accuracy =  0.4375\n"
     ]
    }
   ],
   "source": [
    "print('Accuracy = ',accuracy_score(y_test, y_pred))"
   ]
  },
  {
   "cell_type": "markdown",
   "id": "428c7fa4",
   "metadata": {},
   "source": [
    "## Save model"
   ]
  },
  {
   "cell_type": "code",
   "execution_count": 108,
   "id": "c7bc919c",
   "metadata": {},
   "outputs": [],
   "source": [
    "with open('svmModel.pkl', 'wb') as file:\n",
    "    pickle.dump(clf, file)"
   ]
  },
  {
   "cell_type": "code",
   "execution_count": null,
   "id": "8bcf4f96",
   "metadata": {},
   "outputs": [],
   "source": []
  },
  {
   "cell_type": "code",
   "execution_count": null,
   "id": "a0b2d7e8",
   "metadata": {},
   "outputs": [],
   "source": []
  },
  {
   "cell_type": "code",
   "execution_count": null,
   "id": "77c6e6a3",
   "metadata": {},
   "outputs": [],
   "source": []
  },
  {
   "cell_type": "code",
   "execution_count": null,
   "id": "618d6e06",
   "metadata": {},
   "outputs": [],
   "source": []
  },
  {
   "cell_type": "code",
   "execution_count": null,
   "id": "33ffa589",
   "metadata": {},
   "outputs": [],
   "source": []
  },
  {
   "cell_type": "code",
   "execution_count": null,
   "id": "f9abd533",
   "metadata": {},
   "outputs": [],
   "source": []
  }
 ],
 "metadata": {
  "kernelspec": {
   "display_name": "Python 3 (ipykernel)",
   "language": "python",
   "name": "python3"
  },
  "language_info": {
   "codemirror_mode": {
    "name": "ipython",
    "version": 3
   },
   "file_extension": ".py",
   "mimetype": "text/x-python",
   "name": "python",
   "nbconvert_exporter": "python",
   "pygments_lexer": "ipython3",
   "version": "3.9.7"
  }
 },
 "nbformat": 4,
 "nbformat_minor": 5
}
